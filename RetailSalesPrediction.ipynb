{
 "cells": [
  {
   "cell_type": "markdown",
   "id": "77ca8cc6",
   "metadata": {},
   "source": [
    "### Time Series Modeling"
   ]
  },
  {
   "cell_type": "markdown",
   "id": "a359f36e",
   "metadata": {},
   "source": [
    "1. Plot the data with proper labeling and make some observations on the graph.\n",
    "2. Split this data into a training and test set. Use the last year of data (July 2020 – June 2021) of data as your test set and the rest as your training set.\n",
    "3. Use the training set to build a predictive model for the monthly retail sales.\n",
    "4. Use the model to predict the monthly retail sales on the last year of data.\n",
    "5. Report the RMSE of the model predictions on the test set."
   ]
  },
  {
   "cell_type": "code",
   "execution_count": 1,
   "id": "988e14ab",
   "metadata": {},
   "outputs": [],
   "source": [
    "#importing libraries\n",
    "import pandas as pd\n",
    "import numpy as np\n",
    "import matplotlib.pyplot as plt\n",
    "import seaborn as sns\n",
    "\n",
    "from datetime import datetime, date\n",
    "from statsmodels.tsa.stattools import adfuller\n",
    "from sklearn.linear_model import LinearRegression\n",
    "from sklearn.metrics import mean_squared_error"
   ]
  },
  {
   "cell_type": "code",
   "execution_count": 2,
   "id": "882ef684",
   "metadata": {},
   "outputs": [],
   "source": [
    "import warnings\n",
    "warnings.filterwarnings('ignore')"
   ]
  },
  {
   "cell_type": "code",
   "execution_count": 3,
   "id": "be26620b",
   "metadata": {},
   "outputs": [],
   "source": [
    "#loading the data\n",
    "df = pd.read_csv('us_retail_sales.csv')"
   ]
  },
  {
   "cell_type": "code",
   "execution_count": 4,
   "id": "29727048",
   "metadata": {},
   "outputs": [
    {
     "data": {
      "text/html": [
       "<div>\n",
       "<style scoped>\n",
       "    .dataframe tbody tr th:only-of-type {\n",
       "        vertical-align: middle;\n",
       "    }\n",
       "\n",
       "    .dataframe tbody tr th {\n",
       "        vertical-align: top;\n",
       "    }\n",
       "\n",
       "    .dataframe thead th {\n",
       "        text-align: right;\n",
       "    }\n",
       "</style>\n",
       "<table border=\"1\" class=\"dataframe\">\n",
       "  <thead>\n",
       "    <tr style=\"text-align: right;\">\n",
       "      <th></th>\n",
       "      <th>YEAR</th>\n",
       "      <th>JAN</th>\n",
       "      <th>FEB</th>\n",
       "      <th>MAR</th>\n",
       "      <th>APR</th>\n",
       "      <th>MAY</th>\n",
       "      <th>JUN</th>\n",
       "      <th>JUL</th>\n",
       "      <th>AUG</th>\n",
       "      <th>SEP</th>\n",
       "      <th>OCT</th>\n",
       "      <th>NOV</th>\n",
       "      <th>DEC</th>\n",
       "    </tr>\n",
       "  </thead>\n",
       "  <tbody>\n",
       "    <tr>\n",
       "      <th>0</th>\n",
       "      <td>1992</td>\n",
       "      <td>146925</td>\n",
       "      <td>147223</td>\n",
       "      <td>146805</td>\n",
       "      <td>148032</td>\n",
       "      <td>149010</td>\n",
       "      <td>149800</td>\n",
       "      <td>150761.0</td>\n",
       "      <td>151067.0</td>\n",
       "      <td>152588.0</td>\n",
       "      <td>153521.0</td>\n",
       "      <td>153583.0</td>\n",
       "      <td>155614.0</td>\n",
       "    </tr>\n",
       "    <tr>\n",
       "      <th>1</th>\n",
       "      <td>1993</td>\n",
       "      <td>157555</td>\n",
       "      <td>156266</td>\n",
       "      <td>154752</td>\n",
       "      <td>158979</td>\n",
       "      <td>160605</td>\n",
       "      <td>160127</td>\n",
       "      <td>162816.0</td>\n",
       "      <td>162506.0</td>\n",
       "      <td>163258.0</td>\n",
       "      <td>164685.0</td>\n",
       "      <td>166594.0</td>\n",
       "      <td>168161.0</td>\n",
       "    </tr>\n",
       "    <tr>\n",
       "      <th>2</th>\n",
       "      <td>1994</td>\n",
       "      <td>167518</td>\n",
       "      <td>169649</td>\n",
       "      <td>172766</td>\n",
       "      <td>173106</td>\n",
       "      <td>172329</td>\n",
       "      <td>174241</td>\n",
       "      <td>174781.0</td>\n",
       "      <td>177295.0</td>\n",
       "      <td>178787.0</td>\n",
       "      <td>180561.0</td>\n",
       "      <td>180703.0</td>\n",
       "      <td>181524.0</td>\n",
       "    </tr>\n",
       "    <tr>\n",
       "      <th>3</th>\n",
       "      <td>1995</td>\n",
       "      <td>182413</td>\n",
       "      <td>179488</td>\n",
       "      <td>181013</td>\n",
       "      <td>181686</td>\n",
       "      <td>183536</td>\n",
       "      <td>186081</td>\n",
       "      <td>185431.0</td>\n",
       "      <td>186806.0</td>\n",
       "      <td>187366.0</td>\n",
       "      <td>186565.0</td>\n",
       "      <td>189055.0</td>\n",
       "      <td>190774.0</td>\n",
       "    </tr>\n",
       "    <tr>\n",
       "      <th>4</th>\n",
       "      <td>1996</td>\n",
       "      <td>189135</td>\n",
       "      <td>192266</td>\n",
       "      <td>194029</td>\n",
       "      <td>194744</td>\n",
       "      <td>196205</td>\n",
       "      <td>196136</td>\n",
       "      <td>196187.0</td>\n",
       "      <td>196218.0</td>\n",
       "      <td>198859.0</td>\n",
       "      <td>200509.0</td>\n",
       "      <td>200174.0</td>\n",
       "      <td>201284.0</td>\n",
       "    </tr>\n",
       "  </tbody>\n",
       "</table>\n",
       "</div>"
      ],
      "text/plain": [
       "   YEAR     JAN     FEB     MAR     APR     MAY     JUN       JUL       AUG  \\\n",
       "0  1992  146925  147223  146805  148032  149010  149800  150761.0  151067.0   \n",
       "1  1993  157555  156266  154752  158979  160605  160127  162816.0  162506.0   \n",
       "2  1994  167518  169649  172766  173106  172329  174241  174781.0  177295.0   \n",
       "3  1995  182413  179488  181013  181686  183536  186081  185431.0  186806.0   \n",
       "4  1996  189135  192266  194029  194744  196205  196136  196187.0  196218.0   \n",
       "\n",
       "        SEP       OCT       NOV       DEC  \n",
       "0  152588.0  153521.0  153583.0  155614.0  \n",
       "1  163258.0  164685.0  166594.0  168161.0  \n",
       "2  178787.0  180561.0  180703.0  181524.0  \n",
       "3  187366.0  186565.0  189055.0  190774.0  \n",
       "4  198859.0  200509.0  200174.0  201284.0  "
      ]
     },
     "execution_count": 4,
     "metadata": {},
     "output_type": "execute_result"
    }
   ],
   "source": [
    "#inspecting the dataset\n",
    "df.head()"
   ]
  },
  {
   "cell_type": "code",
   "execution_count": 5,
   "id": "b0a27d5d",
   "metadata": {},
   "outputs": [
    {
     "data": {
      "text/html": [
       "<div>\n",
       "<style scoped>\n",
       "    .dataframe tbody tr th:only-of-type {\n",
       "        vertical-align: middle;\n",
       "    }\n",
       "\n",
       "    .dataframe tbody tr th {\n",
       "        vertical-align: top;\n",
       "    }\n",
       "\n",
       "    .dataframe thead th {\n",
       "        text-align: right;\n",
       "    }\n",
       "</style>\n",
       "<table border=\"1\" class=\"dataframe\">\n",
       "  <thead>\n",
       "    <tr style=\"text-align: right;\">\n",
       "      <th></th>\n",
       "      <th>YEAR</th>\n",
       "      <th>JAN</th>\n",
       "      <th>FEB</th>\n",
       "      <th>MAR</th>\n",
       "      <th>APR</th>\n",
       "      <th>MAY</th>\n",
       "      <th>JUN</th>\n",
       "      <th>JUL</th>\n",
       "      <th>AUG</th>\n",
       "      <th>SEP</th>\n",
       "      <th>OCT</th>\n",
       "      <th>NOV</th>\n",
       "      <th>DEC</th>\n",
       "    </tr>\n",
       "  </thead>\n",
       "  <tbody>\n",
       "    <tr>\n",
       "      <th>25</th>\n",
       "      <td>2017</td>\n",
       "      <td>416081</td>\n",
       "      <td>415503</td>\n",
       "      <td>414620</td>\n",
       "      <td>416889</td>\n",
       "      <td>414540</td>\n",
       "      <td>416505</td>\n",
       "      <td>416744.0</td>\n",
       "      <td>417179.0</td>\n",
       "      <td>426501.0</td>\n",
       "      <td>426933.0</td>\n",
       "      <td>431158.0</td>\n",
       "      <td>433282.0</td>\n",
       "    </tr>\n",
       "    <tr>\n",
       "      <th>26</th>\n",
       "      <td>2018</td>\n",
       "      <td>432148</td>\n",
       "      <td>434106</td>\n",
       "      <td>433232</td>\n",
       "      <td>435610</td>\n",
       "      <td>439996</td>\n",
       "      <td>438191</td>\n",
       "      <td>440703.0</td>\n",
       "      <td>439278.0</td>\n",
       "      <td>438985.0</td>\n",
       "      <td>444038.0</td>\n",
       "      <td>445242.0</td>\n",
       "      <td>434803.0</td>\n",
       "    </tr>\n",
       "    <tr>\n",
       "      <th>27</th>\n",
       "      <td>2019</td>\n",
       "      <td>440751</td>\n",
       "      <td>439996</td>\n",
       "      <td>447167</td>\n",
       "      <td>448709</td>\n",
       "      <td>449552</td>\n",
       "      <td>450927</td>\n",
       "      <td>454012.0</td>\n",
       "      <td>456500.0</td>\n",
       "      <td>452849.0</td>\n",
       "      <td>455486.0</td>\n",
       "      <td>457658.0</td>\n",
       "      <td>458055.0</td>\n",
       "    </tr>\n",
       "    <tr>\n",
       "      <th>28</th>\n",
       "      <td>2020</td>\n",
       "      <td>460586</td>\n",
       "      <td>459610</td>\n",
       "      <td>434281</td>\n",
       "      <td>379892</td>\n",
       "      <td>444631</td>\n",
       "      <td>476343</td>\n",
       "      <td>481627.0</td>\n",
       "      <td>483716.0</td>\n",
       "      <td>493327.0</td>\n",
       "      <td>493991.0</td>\n",
       "      <td>488652.0</td>\n",
       "      <td>484782.0</td>\n",
       "    </tr>\n",
       "    <tr>\n",
       "      <th>29</th>\n",
       "      <td>2021</td>\n",
       "      <td>520162</td>\n",
       "      <td>504458</td>\n",
       "      <td>559871</td>\n",
       "      <td>562269</td>\n",
       "      <td>548987</td>\n",
       "      <td>550782</td>\n",
       "      <td>NaN</td>\n",
       "      <td>NaN</td>\n",
       "      <td>NaN</td>\n",
       "      <td>NaN</td>\n",
       "      <td>NaN</td>\n",
       "      <td>NaN</td>\n",
       "    </tr>\n",
       "  </tbody>\n",
       "</table>\n",
       "</div>"
      ],
      "text/plain": [
       "    YEAR     JAN     FEB     MAR     APR     MAY     JUN       JUL       AUG  \\\n",
       "25  2017  416081  415503  414620  416889  414540  416505  416744.0  417179.0   \n",
       "26  2018  432148  434106  433232  435610  439996  438191  440703.0  439278.0   \n",
       "27  2019  440751  439996  447167  448709  449552  450927  454012.0  456500.0   \n",
       "28  2020  460586  459610  434281  379892  444631  476343  481627.0  483716.0   \n",
       "29  2021  520162  504458  559871  562269  548987  550782       NaN       NaN   \n",
       "\n",
       "         SEP       OCT       NOV       DEC  \n",
       "25  426501.0  426933.0  431158.0  433282.0  \n",
       "26  438985.0  444038.0  445242.0  434803.0  \n",
       "27  452849.0  455486.0  457658.0  458055.0  \n",
       "28  493327.0  493991.0  488652.0  484782.0  \n",
       "29       NaN       NaN       NaN       NaN  "
      ]
     },
     "execution_count": 5,
     "metadata": {},
     "output_type": "execute_result"
    }
   ],
   "source": [
    "df.tail()"
   ]
  },
  {
   "cell_type": "code",
   "execution_count": 6,
   "id": "c5d40b3f",
   "metadata": {},
   "outputs": [],
   "source": [
    "y = df.drop('YEAR', axis=1)\n",
    "x = df['YEAR']"
   ]
  },
  {
   "cell_type": "markdown",
   "id": "b2c1b1f6",
   "metadata": {},
   "source": [
    "#### 1. Plot the data with proper labeling and make some observations on the graph."
   ]
  },
  {
   "cell_type": "code",
   "execution_count": 7,
   "id": "febd94ef",
   "metadata": {},
   "outputs": [
    {
     "data": {
      "image/png": "[encoded data removed]",
      "text/plain": [
       "<Figure size 640x480 with 1 Axes>"
      ]
     },
     "metadata": {},
     "output_type": "display_data"
    }
   ],
   "source": [
    "for month in y:\n",
    "    sns.lineplot(x=x, y=month, data=df,label=month)\n",
    "      \n",
    "plt.xlabel('Year')\n",
    "plt.ylabel('Total Monthly Sales')\n",
    "plt.title('US Retail Sales')\n",
    "plt.rcParams['figure.figsize'] = [20, 15]\n",
    "plt.xticks(x, rotation='vertical')\n",
    "plt.show()"
   ]
  },
  {
   "cell_type": "markdown",
   "id": "016ba72a",
   "metadata": {},
   "source": [
    "Observations:\n",
    "1. If you examine the plot holistically, each month follows an upward trend from 1992 - 2021.\n",
    "2. There is a dip around 2007-2010 which is explained by the recession period around these times.\n",
    "3. Following the dip during the recession period, the total sales trends upward again with a slight dip around 2020.\n",
    "4. Among the months in 2020, March-May experienced the biggest dip in sales which makes sense as it coincides with the start of the Covid-19 lockdown."
   ]
  },
  {
   "cell_type": "markdown",
   "id": "09e653a8",
   "metadata": {},
   "source": [
    "#### 2. Split this data into a training and test set. Use the last year of data (July 2020 – June 2021) of data as your test set and the rest as your training set."
   ]
  },
  {
   "cell_type": "code",
   "execution_count": 8,
   "id": "d6c934f1",
   "metadata": {},
   "outputs": [
    {
     "data": {
      "text/plain": [
       "Index(['YEAR', 'JAN', 'FEB', 'MAR', 'APR', 'MAY', 'JUN', 'JUL', 'AUG', 'SEP',\n",
       "       'OCT', 'NOV', 'DEC'],\n",
       "      dtype='object')"
      ]
     },
     "execution_count": 8,
     "metadata": {},
     "output_type": "execute_result"
    }
   ],
   "source": [
    "df.columns"
   ]
  },
  {
   "cell_type": "code",
   "execution_count": 9,
   "id": "2f6795c0",
   "metadata": {},
   "outputs": [],
   "source": [
    "#unpivoting data\n",
    "df_unpivot = pd.melt(df, id_vars='YEAR', value_vars=['JAN', 'FEB', 'MAR', 'APR', 'MAY', 'JUN', 'JUL', 'AUG', 'SEP',\n",
    "       'OCT', 'NOV', 'DEC'], var_name='MONTH', value_name='TOTAL_SALES')"
   ]
  },
  {
   "cell_type": "code",
   "execution_count": 10,
   "id": "85660aaf",
   "metadata": {},
   "outputs": [],
   "source": [
    "def sort_month(month):\n",
    "    \"\"\"Function to get month number\"\"\"\n",
    "    if month == 'JAN':\n",
    "        return 1\n",
    "    elif month == 'FEB':\n",
    "        return 2\n",
    "    elif month == 'MAR':\n",
    "        return 3\n",
    "    elif month == 'APR':\n",
    "        return 4\n",
    "    elif month == 'MAY':\n",
    "        return 5\n",
    "    elif month == 'JUN':\n",
    "        return 6\n",
    "    elif month == 'JUL':\n",
    "        return 7\n",
    "    elif month == 'AUG':\n",
    "        return 8\n",
    "    elif month == 'SEP':\n",
    "        return 9\n",
    "    elif month == 'OCT':\n",
    "        return 10\n",
    "    elif month == 'NOV':\n",
    "        return 11\n",
    "    elif month == 'DEC':\n",
    "        return 12"
   ]
  },
  {
   "cell_type": "code",
   "execution_count": 11,
   "id": "8d6db556",
   "metadata": {},
   "outputs": [],
   "source": [
    "#applying the function to sort data for filtering\n",
    "df_unpivot['MONTH_NUM'] = df_unpivot['MONTH'].apply(sort_month)"
   ]
  },
  {
   "cell_type": "code",
   "execution_count": 12,
   "id": "555db583",
   "metadata": {},
   "outputs": [
    {
     "data": {
      "text/html": [
       "<div>\n",
       "<style scoped>\n",
       "    .dataframe tbody tr th:only-of-type {\n",
       "        vertical-align: middle;\n",
       "    }\n",
       "\n",
       "    .dataframe tbody tr th {\n",
       "        vertical-align: top;\n",
       "    }\n",
       "\n",
       "    .dataframe thead th {\n",
       "        text-align: right;\n",
       "    }\n",
       "</style>\n",
       "<table border=\"1\" class=\"dataframe\">\n",
       "  <thead>\n",
       "    <tr style=\"text-align: right;\">\n",
       "      <th></th>\n",
       "      <th>YEAR</th>\n",
       "      <th>MONTH</th>\n",
       "      <th>TOTAL_SALES</th>\n",
       "      <th>MONTH_NUM</th>\n",
       "    </tr>\n",
       "  </thead>\n",
       "  <tbody>\n",
       "    <tr>\n",
       "      <th>355</th>\n",
       "      <td>2017</td>\n",
       "      <td>DEC</td>\n",
       "      <td>433282.0</td>\n",
       "      <td>12</td>\n",
       "    </tr>\n",
       "    <tr>\n",
       "      <th>356</th>\n",
       "      <td>2018</td>\n",
       "      <td>DEC</td>\n",
       "      <td>434803.0</td>\n",
       "      <td>12</td>\n",
       "    </tr>\n",
       "    <tr>\n",
       "      <th>357</th>\n",
       "      <td>2019</td>\n",
       "      <td>DEC</td>\n",
       "      <td>458055.0</td>\n",
       "      <td>12</td>\n",
       "    </tr>\n",
       "    <tr>\n",
       "      <th>358</th>\n",
       "      <td>2020</td>\n",
       "      <td>DEC</td>\n",
       "      <td>484782.0</td>\n",
       "      <td>12</td>\n",
       "    </tr>\n",
       "    <tr>\n",
       "      <th>359</th>\n",
       "      <td>2021</td>\n",
       "      <td>DEC</td>\n",
       "      <td>NaN</td>\n",
       "      <td>12</td>\n",
       "    </tr>\n",
       "  </tbody>\n",
       "</table>\n",
       "</div>"
      ],
      "text/plain": [
       "     YEAR MONTH  TOTAL_SALES  MONTH_NUM\n",
       "355  2017   DEC     433282.0         12\n",
       "356  2018   DEC     434803.0         12\n",
       "357  2019   DEC     458055.0         12\n",
       "358  2020   DEC     484782.0         12\n",
       "359  2021   DEC          NaN         12"
      ]
     },
     "execution_count": 12,
     "metadata": {},
     "output_type": "execute_result"
    }
   ],
   "source": [
    "df_unpivot.tail()"
   ]
  },
  {
   "cell_type": "code",
   "execution_count": 13,
   "id": "e2f53ec1",
   "metadata": {},
   "outputs": [],
   "source": [
    "DATE = []\n",
    "for y, m in zip(df_unpivot['YEAR'], df_unpivot['MONTH_NUM']):\n",
    "    DATE.append(date(y,m,1))"
   ]
  },
  {
   "cell_type": "code",
   "execution_count": 14,
   "id": "fd2df69b",
   "metadata": {},
   "outputs": [],
   "source": [
    "df_unpivot['DATE'] = DATE"
   ]
  },
  {
   "cell_type": "code",
   "execution_count": 15,
   "id": "20d6e311",
   "metadata": {},
   "outputs": [],
   "source": [
    "df_unpivot['DATE'] = pd.to_datetime(df_unpivot['DATE'])"
   ]
  },
  {
   "cell_type": "code",
   "execution_count": 16,
   "id": "594ceb08",
   "metadata": {},
   "outputs": [
    {
     "data": {
      "text/plain": [
       "0   1992-01-01\n",
       "1   1993-01-01\n",
       "2   1994-01-01\n",
       "3   1995-01-01\n",
       "4   1996-01-01\n",
       "Name: DATE, dtype: datetime64[ns]"
      ]
     },
     "execution_count": 16,
     "metadata": {},
     "output_type": "execute_result"
    }
   ],
   "source": [
    "df_unpivot['DATE'].head()"
   ]
  },
  {
   "cell_type": "code",
   "execution_count": 17,
   "id": "abc9d43f",
   "metadata": {},
   "outputs": [],
   "source": [
    "#sorting the data to filter between test and train set\n",
    "df_unpivot = df_unpivot.sort_values(by=['DATE'])"
   ]
  },
  {
   "cell_type": "code",
   "execution_count": 18,
   "id": "d26c0ab4",
   "metadata": {},
   "outputs": [
    {
     "data": {
      "text/html": [
       "<div>\n",
       "<style scoped>\n",
       "    .dataframe tbody tr th:only-of-type {\n",
       "        vertical-align: middle;\n",
       "    }\n",
       "\n",
       "    .dataframe tbody tr th {\n",
       "        vertical-align: top;\n",
       "    }\n",
       "\n",
       "    .dataframe thead th {\n",
       "        text-align: right;\n",
       "    }\n",
       "</style>\n",
       "<table border=\"1\" class=\"dataframe\">\n",
       "  <thead>\n",
       "    <tr style=\"text-align: right;\">\n",
       "      <th></th>\n",
       "      <th>YEAR</th>\n",
       "      <th>MONTH</th>\n",
       "      <th>TOTAL_SALES</th>\n",
       "      <th>MONTH_NUM</th>\n",
       "      <th>DATE</th>\n",
       "    </tr>\n",
       "  </thead>\n",
       "  <tbody>\n",
       "    <tr>\n",
       "      <th>208</th>\n",
       "      <td>2020</td>\n",
       "      <td>JUL</td>\n",
       "      <td>481627.0</td>\n",
       "      <td>7</td>\n",
       "      <td>2020-07-01</td>\n",
       "    </tr>\n",
       "    <tr>\n",
       "      <th>238</th>\n",
       "      <td>2020</td>\n",
       "      <td>AUG</td>\n",
       "      <td>483716.0</td>\n",
       "      <td>8</td>\n",
       "      <td>2020-08-01</td>\n",
       "    </tr>\n",
       "    <tr>\n",
       "      <th>268</th>\n",
       "      <td>2020</td>\n",
       "      <td>SEP</td>\n",
       "      <td>493327.0</td>\n",
       "      <td>9</td>\n",
       "      <td>2020-09-01</td>\n",
       "    </tr>\n",
       "    <tr>\n",
       "      <th>298</th>\n",
       "      <td>2020</td>\n",
       "      <td>OCT</td>\n",
       "      <td>493991.0</td>\n",
       "      <td>10</td>\n",
       "      <td>2020-10-01</td>\n",
       "    </tr>\n",
       "    <tr>\n",
       "      <th>328</th>\n",
       "      <td>2020</td>\n",
       "      <td>NOV</td>\n",
       "      <td>488652.0</td>\n",
       "      <td>11</td>\n",
       "      <td>2020-11-01</td>\n",
       "    </tr>\n",
       "    <tr>\n",
       "      <th>358</th>\n",
       "      <td>2020</td>\n",
       "      <td>DEC</td>\n",
       "      <td>484782.0</td>\n",
       "      <td>12</td>\n",
       "      <td>2020-12-01</td>\n",
       "    </tr>\n",
       "    <tr>\n",
       "      <th>29</th>\n",
       "      <td>2021</td>\n",
       "      <td>JAN</td>\n",
       "      <td>520162.0</td>\n",
       "      <td>1</td>\n",
       "      <td>2021-01-01</td>\n",
       "    </tr>\n",
       "    <tr>\n",
       "      <th>59</th>\n",
       "      <td>2021</td>\n",
       "      <td>FEB</td>\n",
       "      <td>504458.0</td>\n",
       "      <td>2</td>\n",
       "      <td>2021-02-01</td>\n",
       "    </tr>\n",
       "    <tr>\n",
       "      <th>89</th>\n",
       "      <td>2021</td>\n",
       "      <td>MAR</td>\n",
       "      <td>559871.0</td>\n",
       "      <td>3</td>\n",
       "      <td>2021-03-01</td>\n",
       "    </tr>\n",
       "    <tr>\n",
       "      <th>119</th>\n",
       "      <td>2021</td>\n",
       "      <td>APR</td>\n",
       "      <td>562269.0</td>\n",
       "      <td>4</td>\n",
       "      <td>2021-04-01</td>\n",
       "    </tr>\n",
       "    <tr>\n",
       "      <th>149</th>\n",
       "      <td>2021</td>\n",
       "      <td>MAY</td>\n",
       "      <td>548987.0</td>\n",
       "      <td>5</td>\n",
       "      <td>2021-05-01</td>\n",
       "    </tr>\n",
       "    <tr>\n",
       "      <th>179</th>\n",
       "      <td>2021</td>\n",
       "      <td>JUN</td>\n",
       "      <td>550782.0</td>\n",
       "      <td>6</td>\n",
       "      <td>2021-06-01</td>\n",
       "    </tr>\n",
       "    <tr>\n",
       "      <th>209</th>\n",
       "      <td>2021</td>\n",
       "      <td>JUL</td>\n",
       "      <td>NaN</td>\n",
       "      <td>7</td>\n",
       "      <td>2021-07-01</td>\n",
       "    </tr>\n",
       "    <tr>\n",
       "      <th>239</th>\n",
       "      <td>2021</td>\n",
       "      <td>AUG</td>\n",
       "      <td>NaN</td>\n",
       "      <td>8</td>\n",
       "      <td>2021-08-01</td>\n",
       "    </tr>\n",
       "    <tr>\n",
       "      <th>269</th>\n",
       "      <td>2021</td>\n",
       "      <td>SEP</td>\n",
       "      <td>NaN</td>\n",
       "      <td>9</td>\n",
       "      <td>2021-09-01</td>\n",
       "    </tr>\n",
       "    <tr>\n",
       "      <th>299</th>\n",
       "      <td>2021</td>\n",
       "      <td>OCT</td>\n",
       "      <td>NaN</td>\n",
       "      <td>10</td>\n",
       "      <td>2021-10-01</td>\n",
       "    </tr>\n",
       "    <tr>\n",
       "      <th>329</th>\n",
       "      <td>2021</td>\n",
       "      <td>NOV</td>\n",
       "      <td>NaN</td>\n",
       "      <td>11</td>\n",
       "      <td>2021-11-01</td>\n",
       "    </tr>\n",
       "    <tr>\n",
       "      <th>359</th>\n",
       "      <td>2021</td>\n",
       "      <td>DEC</td>\n",
       "      <td>NaN</td>\n",
       "      <td>12</td>\n",
       "      <td>2021-12-01</td>\n",
       "    </tr>\n",
       "  </tbody>\n",
       "</table>\n",
       "</div>"
      ],
      "text/plain": [
       "     YEAR MONTH  TOTAL_SALES  MONTH_NUM       DATE\n",
       "208  2020   JUL     481627.0          7 2020-07-01\n",
       "238  2020   AUG     483716.0          8 2020-08-01\n",
       "268  2020   SEP     493327.0          9 2020-09-01\n",
       "298  2020   OCT     493991.0         10 2020-10-01\n",
       "328  2020   NOV     488652.0         11 2020-11-01\n",
       "358  2020   DEC     484782.0         12 2020-12-01\n",
       "29   2021   JAN     520162.0          1 2021-01-01\n",
       "59   2021   FEB     504458.0          2 2021-02-01\n",
       "89   2021   MAR     559871.0          3 2021-03-01\n",
       "119  2021   APR     562269.0          4 2021-04-01\n",
       "149  2021   MAY     548987.0          5 2021-05-01\n",
       "179  2021   JUN     550782.0          6 2021-06-01\n",
       "209  2021   JUL          NaN          7 2021-07-01\n",
       "239  2021   AUG          NaN          8 2021-08-01\n",
       "269  2021   SEP          NaN          9 2021-09-01\n",
       "299  2021   OCT          NaN         10 2021-10-01\n",
       "329  2021   NOV          NaN         11 2021-11-01\n",
       "359  2021   DEC          NaN         12 2021-12-01"
      ]
     },
     "execution_count": 18,
     "metadata": {},
     "output_type": "execute_result"
    }
   ],
   "source": [
    "df_unpivot.tail(18)"
   ]
  },
  {
   "cell_type": "code",
   "execution_count": 19,
   "id": "f218d649",
   "metadata": {},
   "outputs": [],
   "source": [
    "#creating a df for the train set\n",
    "df_train = df_unpivot.drop(df_unpivot.tail(18).index)"
   ]
  },
  {
   "cell_type": "code",
   "execution_count": 20,
   "id": "da7fb211",
   "metadata": {},
   "outputs": [],
   "source": [
    "#creating the target and feature series\n",
    "X_train = df_train.drop(['TOTAL_SALES', 'MONTH', 'MONTH_NUM', 'YEAR'], axis=1)\n",
    "y_train = df_train['TOTAL_SALES']"
   ]
  },
  {
   "cell_type": "code",
   "execution_count": 21,
   "id": "eb1969dd",
   "metadata": {},
   "outputs": [],
   "source": [
    "#creating a df for the test set\n",
    "df_test = df_unpivot.tail(18)\n",
    "df_test = df_test.dropna()"
   ]
  },
  {
   "cell_type": "code",
   "execution_count": 22,
   "id": "34f69f76",
   "metadata": {},
   "outputs": [],
   "source": [
    "#creating the target and feature series\n",
    "X_test = df_test.drop(['TOTAL_SALES', 'MONTH', 'MONTH_NUM', 'YEAR'], axis=1)\n",
    "y_test = df_test['TOTAL_SALES']"
   ]
  },
  {
   "cell_type": "code",
   "execution_count": 23,
   "id": "99a55d13",
   "metadata": {},
   "outputs": [],
   "source": [
    "X_test = X_test.values.astype(float)"
   ]
  },
  {
   "cell_type": "markdown",
   "id": "2e92e109",
   "metadata": {},
   "source": [
    "#### 3. Use the training set to build a predictive model for the monthly retail sales."
   ]
  },
  {
   "cell_type": "code",
   "execution_count": 24,
   "id": "204924f8",
   "metadata": {},
   "outputs": [
    {
     "data": {
      "text/plain": [
       "LinearRegression()"
      ]
     },
     "execution_count": 24,
     "metadata": {},
     "output_type": "execute_result"
    }
   ],
   "source": [
    "model = LinearRegression()\n",
    "model.fit(X_train.values, y_train)"
   ]
  },
  {
   "cell_type": "markdown",
   "id": "a4fe3cdd",
   "metadata": {},
   "source": [
    "#### 4. Use the model to predict the monthly retail sales on the last year of data."
   ]
  },
  {
   "cell_type": "code",
   "execution_count": 25,
   "id": "b3555362",
   "metadata": {},
   "outputs": [],
   "source": [
    "y_pred = model.predict(X_test)"
   ]
  },
  {
   "cell_type": "code",
   "execution_count": 26,
   "id": "b38d0000",
   "metadata": {},
   "outputs": [
    {
     "data": {
      "text/html": [
       "<div>\n",
       "<style scoped>\n",
       "    .dataframe tbody tr th:only-of-type {\n",
       "        vertical-align: middle;\n",
       "    }\n",
       "\n",
       "    .dataframe tbody tr th {\n",
       "        vertical-align: top;\n",
       "    }\n",
       "\n",
       "    .dataframe thead th {\n",
       "        text-align: right;\n",
       "    }\n",
       "</style>\n",
       "<table border=\"1\" class=\"dataframe\">\n",
       "  <thead>\n",
       "    <tr style=\"text-align: right;\">\n",
       "      <th></th>\n",
       "      <th>Actual</th>\n",
       "      <th>Predicted</th>\n",
       "    </tr>\n",
       "  </thead>\n",
       "  <tbody>\n",
       "    <tr>\n",
       "      <th>208</th>\n",
       "      <td>481627.0</td>\n",
       "      <td>449450.188174</td>\n",
       "    </tr>\n",
       "    <tr>\n",
       "      <th>238</th>\n",
       "      <td>483716.0</td>\n",
       "      <td>450339.376629</td>\n",
       "    </tr>\n",
       "    <tr>\n",
       "      <th>268</th>\n",
       "      <td>493327.0</td>\n",
       "      <td>451228.565083</td>\n",
       "    </tr>\n",
       "    <tr>\n",
       "      <th>298</th>\n",
       "      <td>493991.0</td>\n",
       "      <td>452089.070039</td>\n",
       "    </tr>\n",
       "    <tr>\n",
       "      <th>328</th>\n",
       "      <td>488652.0</td>\n",
       "      <td>452978.258494</td>\n",
       "    </tr>\n",
       "    <tr>\n",
       "      <th>358</th>\n",
       "      <td>484782.0</td>\n",
       "      <td>453838.763450</td>\n",
       "    </tr>\n",
       "    <tr>\n",
       "      <th>29</th>\n",
       "      <td>520162.0</td>\n",
       "      <td>454727.951904</td>\n",
       "    </tr>\n",
       "    <tr>\n",
       "      <th>59</th>\n",
       "      <td>504458.0</td>\n",
       "      <td>455617.140359</td>\n",
       "    </tr>\n",
       "    <tr>\n",
       "      <th>89</th>\n",
       "      <td>559871.0</td>\n",
       "      <td>456420.278317</td>\n",
       "    </tr>\n",
       "    <tr>\n",
       "      <th>119</th>\n",
       "      <td>562269.0</td>\n",
       "      <td>457309.466772</td>\n",
       "    </tr>\n",
       "    <tr>\n",
       "      <th>149</th>\n",
       "      <td>548987.0</td>\n",
       "      <td>458169.971728</td>\n",
       "    </tr>\n",
       "    <tr>\n",
       "      <th>179</th>\n",
       "      <td>550782.0</td>\n",
       "      <td>459059.160183</td>\n",
       "    </tr>\n",
       "  </tbody>\n",
       "</table>\n",
       "</div>"
      ],
      "text/plain": [
       "       Actual      Predicted\n",
       "208  481627.0  449450.188174\n",
       "238  483716.0  450339.376629\n",
       "268  493327.0  451228.565083\n",
       "298  493991.0  452089.070039\n",
       "328  488652.0  452978.258494\n",
       "358  484782.0  453838.763450\n",
       "29   520162.0  454727.951904\n",
       "59   504458.0  455617.140359\n",
       "89   559871.0  456420.278317\n",
       "119  562269.0  457309.466772\n",
       "149  548987.0  458169.971728\n",
       "179  550782.0  459059.160183"
      ]
     },
     "execution_count": 26,
     "metadata": {},
     "output_type": "execute_result"
    }
   ],
   "source": [
    "pd.DataFrame({'Actual':y_test, 'Predicted':y_pred})"
   ]
  },
  {
   "cell_type": "markdown",
   "id": "490725b8",
   "metadata": {},
   "source": [
    "#### 5. Report the RMSE of the model predictions on the test set."
   ]
  },
  {
   "cell_type": "code",
   "execution_count": 27,
   "id": "06fcddf1",
   "metadata": {},
   "outputs": [],
   "source": [
    "rmse = np.sqrt(mean_squared_error(y_test, y_pred))"
   ]
  },
  {
   "cell_type": "code",
   "execution_count": 28,
   "id": "d7fc1eaf",
   "metadata": {},
   "outputs": [
    {
     "name": "stdout",
     "output_type": "stream",
     "text": [
      "66429.10224837925\n"
     ]
    }
   ],
   "source": [
    "print(rmse)"
   ]
  }
 ],
 "metadata": {
  "kernelspec": {
   "display_name": "Python 3 (ipykernel)",
   "language": "python",
   "name": "python3"
  },
  "language_info": {
   "codemirror_mode": {
    "name": "ipython",
    "version": 3
   },
   "file_extension": ".py",
   "mimetype": "text/x-python",
   "name": "python",
   "nbconvert_exporter": "python",
   "pygments_lexer": "ipython3",
   "version": "3.9.13"
  }
 },
 "nbformat": 4,
 "nbformat_minor": 5
}
